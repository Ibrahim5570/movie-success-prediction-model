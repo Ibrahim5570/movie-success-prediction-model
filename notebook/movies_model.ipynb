{
 "cells": [
  {
   "cell_type": "code",
   "execution_count": null,
   "id": "initial_id",
   "metadata": {
    "collapsed": true
   },
   "outputs": [],
   "source": [
    "import pandas as pd\n",
    "import json\n",
    "from sklearn.preprocessing import LabelEncoder\n",
    "from sklearn.feature_extraction.text import CountVectorizer\n",
    "from sklearn.preprocessing import StandardScaler\n",
    "import numpy as np\n",
    "from sklearn.model_selection import train_test_split\n",
    "from sklearn.ensemble import RandomForestClassifier\n",
    "from sklearn.metrics import classification_report, confusion_matrix, accuracy_score\n",
    "import seaborn as sns\n",
    "import matplotlib.pyplot as plt\n"
   ]
  },
  {
   "metadata": {},
   "cell_type": "code",
   "outputs": [],
   "execution_count": null,
   "source": [
    "movies = pd.read_csv('data/movies.csv')\n",
    "cr = pd.read_csv('data/credits.csv')\n",
    "\n",
    "df = movies.merge(cr, left_on='id', right_on='movie_id')\n",
    "df = df.drop(columns=[\n",
    "    'homepage', 'status', 'original_title', 'overview',\n",
    "    'spoken_languages', 'tagline', 'title_y', 'movie_id',\n",
    "    'production_countries', 'video', 'adult'\n",
    "], errors='ignore')\n"
   ],
   "id": "ab19b65afe54269d"
  },
  {
   "metadata": {},
   "cell_type": "code",
   "outputs": [],
   "execution_count": null,
   "source": [
    "def extract_names(x):\n",
    "    try:\n",
    "        return [d['name'] for d in json.loads(x)]\n",
    "    except:\n",
    "        return []\n",
    "\n",
    "def extract_director(x):\n",
    "    try:\n",
    "        crew_list = json.loads(x)\n",
    "        for d in crew_list:\n",
    "            if d['job'] == 'Director':\n",
    "                return d['name']\n",
    "    except:\n",
    "        return ''\n",
    "\n",
    "df['genres'] = df['genres'].apply(extract_names)\n",
    "df['keywords'] = df['keywords'].apply(extract_names)\n",
    "df['production_companies'] = df['production_companies'].apply(extract_names)\n",
    "df['cast'] = df['cast'].apply(lambda x: extract_names(x)[:3])\n",
    "df['director'] = df['crew'].apply(extract_director)\n"
   ],
   "id": "aef2ca7490898ec0"
  },
  {
   "metadata": {},
   "cell_type": "code",
   "outputs": [],
   "execution_count": null,
   "source": [
    "df['soup'] = (\n",
    "    df['genres'].apply(lambda x: ' '.join(x)) + ' ' +\n",
    "    df['keywords'].apply(lambda x: ' '.join(x)) + ' ' +\n",
    "    df['production_companies'].apply(lambda x: ' '.join(x)) + ' ' +\n",
    "    df['cast'].apply(lambda x: ' '.join(x)) + ' ' +\n",
    "    df['director'].fillna('')\n",
    ")\n"
   ],
   "id": "c375abf3a1b55978"
  },
  {
   "metadata": {},
   "cell_type": "code",
   "outputs": [],
   "execution_count": null,
   "source": [
    "le = LabelEncoder()\n",
    "df['original_language'] = le.fit_transform(df['original_language'])\n",
    "\n",
    "df['release_date'] = pd.to_datetime(df['release_date'], errors='coerce')\n",
    "df['release_year'] = df['release_date'].dt.year\n",
    "df['release_month'] = df['release_date'].dt.month\n",
    "df['is_weekend_release'] = (df['release_date'].dt.dayofweek >= 5).astype(int)\n"
   ],
   "id": "dd9e2d832ce457f1"
  },
  {
   "metadata": {},
   "cell_type": "code",
   "outputs": [],
   "execution_count": null,
   "source": [
    "df = df[(df['budget'] > 0) & (df['revenue'] > 0)]\n",
    "df['success'] = (df['revenue'] > 1.5 * df['budget']).astype(int)\n"
   ],
   "id": "8836ab11bd26abfe"
  },
  {
   "metadata": {},
   "cell_type": "code",
   "outputs": [],
   "execution_count": null,
   "source": [
    "cv = CountVectorizer(max_features=5000, stop_words='english')\n",
    "soup_matrix = cv.fit_transform(df['soup']).toarray()\n",
    "\n",
    "num_cols = ['budget', 'popularity', 'runtime', 'original_language', 'release_year', 'release_month', 'is_weekend_release']\n",
    "X_num = df[num_cols].fillna(0)\n",
    "\n",
    "scaler = StandardScaler()\n",
    "X_num_scaled = scaler.fit_transform(X_num)\n",
    "\n",
    "X = np.hstack((X_num_scaled, soup_matrix))\n",
    "y = df['success']\n",
    "\n",
    "df = df.reset_index(drop=True)\n",
    "row_indices = df.index\n"
   ],
   "id": "3e5cce22e2b4d158"
  },
  {
   "metadata": {},
   "cell_type": "code",
   "outputs": [],
   "execution_count": null,
   "source": [
    "X_train, X_test, y_train, y_test, idx_train, idx_test = train_test_split(\n",
    "    X, y, row_indices, test_size=0.2, random_state=42, stratify=y\n",
    ")\n",
    "\n",
    "clf = RandomForestClassifier(n_estimators=100, random_state=42)\n",
    "clf.fit(X_train, y_train)\n"
   ],
   "id": "cb4c2ee980e07759"
  },
  {
   "metadata": {},
   "cell_type": "code",
   "outputs": [],
   "execution_count": null,
   "source": [
    "y_pred = clf.predict(X_test)\n",
    "\n",
    "print(\"🎯 Accuracy:\", accuracy_score(y_test, y_pred))\n",
    "print(\"\\n📋 Classification Report:\\n\", classification_report(y_test, y_pred))\n",
    "\n",
    "plt.figure(figsize=(6,4))\n",
    "sns.heatmap(confusion_matrix(y_test, y_pred), annot=True, fmt='d', cmap='Blues')\n",
    "plt.xlabel(\"Predicted\")\n",
    "plt.ylabel(\"Actual\")\n",
    "plt.title(\"Confusion Matrix\")\n",
    "plt.show()\n"
   ],
   "id": "2adfd63890376ce0"
  },
  {
   "metadata": {},
   "cell_type": "code",
   "outputs": [],
   "execution_count": null,
   "source": [
    "titles_test = df.loc[idx_test, 'title_x'].reset_index(drop=True)\n",
    "\n",
    "comparison_df = pd.DataFrame({\n",
    "    'Movie Title': titles_test,\n",
    "    'Actual': y_test.reset_index(drop=True),\n",
    "    'Predicted': y_pred\n",
    "})\n",
    "\n",
    "wrong_preds = comparison_df[comparison_df['Actual'] != comparison_df['Predicted']]\n",
    "print(\"❌ Wrong predictions:\")\n",
    "print(wrong_preds.head(10))\n",
    "\n",
    "correct = (comparison_df['Actual'] == comparison_df['Predicted']).sum()\n",
    "total = len(comparison_df)\n",
    "print(f\"✅ Correct Predictions: {correct}/{total} ({100 * correct/total:.2f}%)\")\n",
    "\n",
    "sns.countplot(data=comparison_df, x='Actual', hue='Predicted')\n",
    "plt.title(\"Actual vs Predicted Class Distribution\")\n",
    "plt.show()\n"
   ],
   "id": "7a830b0620bf567f"
  }
 ],
 "metadata": {
  "kernelspec": {
   "display_name": "Python 3",
   "language": "python",
   "name": "python3"
  },
  "language_info": {
   "codemirror_mode": {
    "name": "ipython",
    "version": 2
   },
   "file_extension": ".py",
   "mimetype": "text/x-python",
   "name": "python",
   "nbconvert_exporter": "python",
   "pygments_lexer": "ipython2",
   "version": "2.7.6"
  }
 },
 "nbformat": 4,
 "nbformat_minor": 5
}
